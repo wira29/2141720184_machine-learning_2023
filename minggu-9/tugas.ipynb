{
 "cells": [
  {
   "cell_type": "markdown",
   "metadata": {},
   "source": [
    "# Tugas"
   ]
  },
  {
   "cell_type": "markdown",
   "metadata": {},
   "source": [
    "1. Lakukan klasifikasi pada data MNIST dengan menggunakan model ANN\n",
    "\n",
    "2. Anda diperbolehkan melakukan eksplorasi terhadap,\n",
    "  * Metode pra pengolahan\n",
    "  * Pemilihan fitur\n",
    "  * Arsitektur ANN\n",
    "  * Fungsi Aktiviasi\n",
    "\n",
    "3. ANN diimplementasikan dengan menggunakan tensorflow.\n",
    "\n",
    "4. DIKERJAKAN SECARA BERKELOMPOK\n",
    "\n",
    "5. JELASKAN HASIL YANG ANDA DAPATKAN,\n",
    "  * AKURASI\n",
    "  * CONFUSION MATRIX\n",
    "  * KONFIGURASI MODEL --> MULAI DARI PRA PENGOLAHAN SAMPAI ARSITEKTUR ANN"
   ]
  },
  {
   "cell_type": "markdown",
   "metadata": {},
   "source": [
    "### Import Library"
   ]
  },
  {
   "cell_type": "code",
   "execution_count": 1,
   "metadata": {},
   "outputs": [],
   "source": [
    "import cv2   # it will allow us to load our images into the script\n",
    "import numpy as np   # used for reformatting our own images\n",
    "import tensorflow as tf   # main library used to load data sets, build neural networks, train them, etc.\n",
    "import matplotlib.pyplot as plt   # used for visualization\n",
    "from collections import Counter"
   ]
  },
  {
   "cell_type": "markdown",
   "metadata": {},
   "source": [
    "### Download dataset MNIST"
   ]
  },
  {
   "cell_type": "code",
   "execution_count": 2,
   "metadata": {},
   "outputs": [
    {
     "name": "stderr",
     "output_type": "stream",
     "text": [
      "c:\\Users\\bag4s\\anaconda3\\Lib\\site-packages\\sklearn\\datasets\\_openml.py:1002: FutureWarning: The default value of `parser` will change from `'liac-arff'` to `'auto'` in 1.4. You can set `parser='auto'` to silence this warning. Therefore, an `ImportError` will be raised from 1.4 if the dataset is dense and pandas is not installed. Note that the pandas parser may return different data types. See the Notes Section in fetch_openml's API doc for details.\n",
      "  warn(\n"
     ]
    }
   ],
   "source": [
    "from sklearn.datasets import fetch_openml\n",
    "\n",
    "mnist = fetch_openml('mnist_784')"
   ]
  },
  {
   "cell_type": "markdown",
   "metadata": {},
   "source": [
    "### Ekstrak Data"
   ]
  },
  {
   "cell_type": "code",
   "execution_count": 6,
   "metadata": {},
   "outputs": [],
   "source": [
    "from skimage.feature import hog\n",
    "\n",
    "# Extract HOG features from the images\n",
    "def extract_hog_features(images):\n",
    "    hog_features = []\n",
    "    for image in images:\n",
    "        # Reshape the image to its original shape (28x28)\n",
    "        image = image.reshape((28, 28))\n",
    "        # Calculate HOG features\n",
    "        hog_feature = hog(image, pixels_per_cell=(8, 8), cells_per_block=(2, 2))\n",
    "        hog_features.append(hog_feature)\n",
    "    return np.array(hog_features)"
   ]
  },
  {
   "cell_type": "code",
   "execution_count": 8,
   "metadata": {},
   "outputs": [],
   "source": [
    "from sklearn.model_selection import train_test_split\n",
    "\n",
    "# Extract features and labels\n",
    "x, y = mnist.data.values.astype(int), mnist.target.astype(int)\n",
    "\n",
    "# Split the dataset into training and testing sets\n",
    "x_train, x_test, y_train, y_test = train_test_split(x, y, test_size=0.2)\n",
    "x_train_hog = extract_hog_features(x_train)\n",
    "x_test_hog = extract_hog_features(x_test)"
   ]
  },
  {
   "cell_type": "markdown",
   "metadata": {},
   "source": [
    "### Normalize Data"
   ]
  },
  {
   "cell_type": "code",
   "execution_count": 9,
   "metadata": {},
   "outputs": [],
   "source": [
    "x_train_hog = tf.keras.utils.normalize(x_train_hog, axis=1)\n",
    "x_test_hog = tf.keras.utils.normalize(x_test_hog, axis=1)"
   ]
  },
  {
   "cell_type": "markdown",
   "metadata": {},
   "source": [
    "### Preprocess Data"
   ]
  },
  {
   "cell_type": "code",
   "execution_count": 10,
   "metadata": {},
   "outputs": [],
   "source": [
    "# Normalize the pixel values to the range [0, 1]\n",
    "x_train_hog = x_train_hog / 255.0\n",
    "x_test_hog = x_test_hog / 255.0"
   ]
  },
  {
   "cell_type": "markdown",
   "metadata": {},
   "source": [
    "### Make model ANN"
   ]
  },
  {
   "cell_type": "code",
   "execution_count": 21,
   "metadata": {},
   "outputs": [],
   "source": [
    "model = tf.keras.models.Sequential()"
   ]
  },
  {
   "cell_type": "markdown",
   "metadata": {},
   "source": [
    "### Make layers"
   ]
  },
  {
   "cell_type": "code",
   "execution_count": 22,
   "metadata": {},
   "outputs": [],
   "source": [
    "model.add(tf.keras.layers.Dense(units=128, activation='relu', input_shape=(144,)))\n",
    "model.add(tf.keras.layers.Dense(units=128, activation='relu'))\n",
    "model.add(tf.keras.layers.Dense(units=10, activation='softmax'))  # 10 classes for MNIST"
   ]
  },
  {
   "cell_type": "code",
   "execution_count": 23,
   "metadata": {},
   "outputs": [
    {
     "name": "stdout",
     "output_type": "stream",
     "text": [
      "Model: \"sequential_1\"\n",
      "_________________________________________________________________\n",
      " Layer (type)                Output Shape              Param #   \n",
      "=================================================================\n",
      " dense_6 (Dense)             (None, 128)               18560     \n",
      "                                                                 \n",
      " dense_7 (Dense)             (None, 128)               16512     \n",
      "                                                                 \n",
      " dense_8 (Dense)             (None, 10)                1290      \n",
      "                                                                 \n",
      "=================================================================\n",
      "Total params: 36362 (142.04 KB)\n",
      "Trainable params: 36362 (142.04 KB)\n",
      "Non-trainable params: 0 (0.00 Byte)\n",
      "_________________________________________________________________\n"
     ]
    }
   ],
   "source": [
    "model.summary()"
   ]
  },
  {
   "cell_type": "markdown",
   "metadata": {},
   "source": [
    "### Compiling Model"
   ]
  },
  {
   "cell_type": "code",
   "execution_count": 24,
   "metadata": {},
   "outputs": [],
   "source": [
    "model.compile(optimizer='adam', loss='sparse_categorical_crossentropy', metrics=['accuracy'])"
   ]
  },
  {
   "cell_type": "code",
   "execution_count": 25,
   "metadata": {},
   "outputs": [
    {
     "name": "stdout",
     "output_type": "stream",
     "text": [
      "Epoch 1/25\n",
      "560/560 [==============================] - 2s 2ms/step - loss: 2.0688 - accuracy: 0.2369 - val_loss: 1.6831 - val_accuracy: 0.3952\n",
      "Epoch 2/25\n",
      "560/560 [==============================] - 1s 2ms/step - loss: 1.4122 - accuracy: 0.5140 - val_loss: 1.1589 - val_accuracy: 0.5911\n",
      "Epoch 3/25\n",
      "560/560 [==============================] - 1s 2ms/step - loss: 1.0553 - accuracy: 0.6258 - val_loss: 0.9670 - val_accuracy: 0.6655\n",
      "Epoch 4/25\n",
      "560/560 [==============================] - 1s 2ms/step - loss: 0.9210 - accuracy: 0.6769 - val_loss: 0.8688 - val_accuracy: 0.7029\n",
      "Epoch 5/25\n",
      "560/560 [==============================] - 1s 2ms/step - loss: 0.8432 - accuracy: 0.7116 - val_loss: 0.8000 - val_accuracy: 0.7359\n",
      "Epoch 6/25\n",
      "560/560 [==============================] - 1s 2ms/step - loss: 0.7768 - accuracy: 0.7429 - val_loss: 0.7326 - val_accuracy: 0.7666\n",
      "Epoch 7/25\n",
      "560/560 [==============================] - 1s 2ms/step - loss: 0.7073 - accuracy: 0.7692 - val_loss: 0.6850 - val_accuracy: 0.7809\n",
      "Epoch 8/25\n",
      "560/560 [==============================] - 1s 2ms/step - loss: 0.6569 - accuracy: 0.7853 - val_loss: 0.6442 - val_accuracy: 0.7871\n",
      "Epoch 9/25\n",
      "560/560 [==============================] - 1s 2ms/step - loss: 0.6163 - accuracy: 0.7968 - val_loss: 0.5960 - val_accuracy: 0.8075\n",
      "Epoch 10/25\n",
      "560/560 [==============================] - 1s 2ms/step - loss: 0.5935 - accuracy: 0.8043 - val_loss: 0.5883 - val_accuracy: 0.8058\n",
      "Epoch 11/25\n",
      "560/560 [==============================] - 1s 2ms/step - loss: 0.5733 - accuracy: 0.8111 - val_loss: 0.5652 - val_accuracy: 0.8161\n",
      "Epoch 12/25\n",
      "560/560 [==============================] - 1s 2ms/step - loss: 0.5601 - accuracy: 0.8159 - val_loss: 0.5585 - val_accuracy: 0.8174\n",
      "Epoch 13/25\n",
      "560/560 [==============================] - 1s 2ms/step - loss: 0.5430 - accuracy: 0.8221 - val_loss: 0.5246 - val_accuracy: 0.8311\n",
      "Epoch 14/25\n",
      "560/560 [==============================] - 1s 2ms/step - loss: 0.5259 - accuracy: 0.8278 - val_loss: 0.5112 - val_accuracy: 0.8361\n",
      "Epoch 15/25\n",
      "560/560 [==============================] - 1s 2ms/step - loss: 0.5104 - accuracy: 0.8326 - val_loss: 0.4958 - val_accuracy: 0.8405\n",
      "Epoch 16/25\n",
      "560/560 [==============================] - 1s 2ms/step - loss: 0.4846 - accuracy: 0.8426 - val_loss: 0.4643 - val_accuracy: 0.8537\n",
      "Epoch 17/25\n",
      "560/560 [==============================] - 1s 2ms/step - loss: 0.4589 - accuracy: 0.8533 - val_loss: 0.4551 - val_accuracy: 0.8580\n",
      "Epoch 18/25\n",
      "560/560 [==============================] - 1s 2ms/step - loss: 0.4388 - accuracy: 0.8596 - val_loss: 0.4222 - val_accuracy: 0.8688\n",
      "Epoch 19/25\n",
      "560/560 [==============================] - 1s 2ms/step - loss: 0.4185 - accuracy: 0.8639 - val_loss: 0.4078 - val_accuracy: 0.8716\n",
      "Epoch 20/25\n",
      "560/560 [==============================] - 1s 2ms/step - loss: 0.4011 - accuracy: 0.8709 - val_loss: 0.4049 - val_accuracy: 0.8726\n",
      "Epoch 21/25\n",
      "560/560 [==============================] - 1s 2ms/step - loss: 0.3885 - accuracy: 0.8754 - val_loss: 0.4016 - val_accuracy: 0.8756\n",
      "Epoch 22/25\n",
      "560/560 [==============================] - 1s 2ms/step - loss: 0.3763 - accuracy: 0.8799 - val_loss: 0.3772 - val_accuracy: 0.8809\n",
      "Epoch 23/25\n",
      "560/560 [==============================] - 1s 2ms/step - loss: 0.3663 - accuracy: 0.8823 - val_loss: 0.3535 - val_accuracy: 0.8894\n",
      "Epoch 24/25\n",
      "560/560 [==============================] - 1s 2ms/step - loss: 0.3539 - accuracy: 0.8871 - val_loss: 0.3449 - val_accuracy: 0.8921\n",
      "Epoch 25/25\n",
      "560/560 [==============================] - 1s 2ms/step - loss: 0.3464 - accuracy: 0.8882 - val_loss: 0.3402 - val_accuracy: 0.8925\n"
     ]
    },
    {
     "data": {
      "text/plain": [
       "<keras.src.callbacks.History at 0x1e181074e50>"
      ]
     },
     "execution_count": 25,
     "metadata": {},
     "output_type": "execute_result"
    }
   ],
   "source": [
    "model.fit(x_train_hog, y_train, epochs=25, batch_size=100, validation_data=(x_test_hog, y_test))"
   ]
  },
  {
   "cell_type": "markdown",
   "metadata": {},
   "source": [
    "### Model Evaluation"
   ]
  },
  {
   "cell_type": "code",
   "execution_count": 28,
   "metadata": {},
   "outputs": [
    {
     "name": "stdout",
     "output_type": "stream",
     "text": [
      "  1/438 [..............................] - ETA: 7s - loss: 0.3302 - accuracy: 0.8125"
     ]
    },
    {
     "name": "stdout",
     "output_type": "stream",
     "text": [
      "438/438 [==============================] - 0s 825us/step - loss: 0.3402 - accuracy: 0.8925\n",
      "0.3401704430580139\n",
      "0.8924999833106995\n"
     ]
    }
   ],
   "source": [
    "# Prediction\n",
    "loss, accuracy = model.evaluate(x_test_hog, y_test)\n",
    "print(loss)\n",
    "print(accuracy)"
   ]
  },
  {
   "cell_type": "code",
   "execution_count": 31,
   "metadata": {},
   "outputs": [
    {
     "name": "stdout",
     "output_type": "stream",
     "text": [
      "438/438 [==============================] - 0s 711us/step\n"
     ]
    },
    {
     "data": {
      "image/png": "[encoded data removed]",
      "text/plain": [
       "<Figure size 800x600 with 1 Axes>"
      ]
     },
     "metadata": {},
     "output_type": "display_data"
    }
   ],
   "source": [
    "# Confusion Matrix\n",
    "from sklearn.metrics import confusion_matrix\n",
    "import seaborn as sns\n",
    "\n",
    "# Assuming you have already trained your model and have predictions\n",
    "y_pred = model.predict(x_test_hog)\n",
    "y_pred_classes = np.argmax(y_pred, axis=1)\n",
    "\n",
    "# Create the confusion matrix\n",
    "confusion = confusion_matrix(y_test, y_pred_classes)\n",
    "\n",
    "# Convert counts to percentages\n",
    "confusion_percent = confusion.astype('float') / confusion.sum(axis=1)[:, np.newaxis] * 100\n",
    "\n",
    "# Create a figure and a set of subplots\n",
    "fig, ax = plt.subplots(figsize=(8, 6))\n",
    "\n",
    "# Create a heatmap with percentages\n",
    "sns.heatmap(confusion_percent, annot=True, fmt='.1f', cmap='Blues', cbar=False, ax=ax)\n",
    "\n",
    "# Set labels and title\n",
    "ax.set_xlabel('Predicted')\n",
    "ax.set_ylabel('True')\n",
    "ax.set_title('Confusion Matrix (Percent)')\n",
    "\n",
    "# Add class labels to the x and y axis\n",
    "class_labels = [str(i) for i in range(10)]  # Assuming you have 10 classes\n",
    "ax.set_xticklabels(class_labels)\n",
    "ax.set_yticklabels(class_labels)\n",
    "\n",
    "# Display the plot\n",
    "plt.show()"
   ]
  }
 ],
 "metadata": {
  "kernelspec": {
   "display_name": "base",
   "language": "python",
   "name": "python3"
  },
  "language_info": {
   "codemirror_mode": {
    "name": "ipython",
    "version": 3
   },
   "file_extension": ".py",
   "mimetype": "text/x-python",
   "name": "python",
   "nbconvert_exporter": "python",
   "pygments_lexer": "ipython3",
   "version": "3.11.5"
  }
 },
 "nbformat": 4,
 "nbformat_minor": 2
}
